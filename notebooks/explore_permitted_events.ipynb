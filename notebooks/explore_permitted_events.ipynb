{
 "cells": [
  {
   "cell_type": "code",
   "execution_count": 1,
   "metadata": {},
   "outputs": [
    {
     "name": "stdout",
     "output_type": "stream",
     "text": [
      "Defaulting to user installation because normal site-packages is not writeable\n",
      "Requirement already satisfied: pandas in /Users/ikmalbasirun/Library/Python/3.9/lib/python/site-packages (2.2.3)\n",
      "Requirement already satisfied: numpy>=1.22.4 in /Users/ikmalbasirun/Library/Python/3.9/lib/python/site-packages (from pandas) (2.0.2)\n",
      "Requirement already satisfied: python-dateutil>=2.8.2 in /Users/ikmalbasirun/Library/Python/3.9/lib/python/site-packages (from pandas) (2.9.0.post0)\n",
      "Requirement already satisfied: pytz>=2020.1 in /Users/ikmalbasirun/Library/Python/3.9/lib/python/site-packages (from pandas) (2025.1)\n",
      "Requirement already satisfied: tzdata>=2022.7 in /Users/ikmalbasirun/Library/Python/3.9/lib/python/site-packages (from pandas) (2025.1)\n",
      "Requirement already satisfied: six>=1.5 in /Library/Developer/CommandLineTools/Library/Frameworks/Python3.framework/Versions/3.9/lib/python3.9/site-packages (from python-dateutil>=2.8.2->pandas) (1.15.0)\n",
      "\n",
      "\u001b[1m[\u001b[0m\u001b[34;49mnotice\u001b[0m\u001b[1;39;49m]\u001b[0m\u001b[39;49m A new release of pip is available: \u001b[0m\u001b[31;49m25.0.1\u001b[0m\u001b[39;49m -> \u001b[0m\u001b[32;49m25.1.1\u001b[0m\n",
      "\u001b[1m[\u001b[0m\u001b[34;49mnotice\u001b[0m\u001b[1;39;49m]\u001b[0m\u001b[39;49m To update, run: \u001b[0m\u001b[32;49m/Library/Developer/CommandLineTools/usr/bin/python3 -m pip install --upgrade pip\u001b[0m\n",
      "Note: you may need to restart the kernel to use updated packages.\n"
     ]
    }
   ],
   "source": [
    "%pip install pandas\n",
    "\n",
    "import pandas as pd\n",
    "import seaborn as sns\n",
    "import matplotlib.pyplot as plt"
   ]
  },
  {
   "cell_type": "markdown",
   "metadata": {},
   "source": [
    "# Loading Data"
   ]
  },
  {
   "cell_type": "code",
   "execution_count": null,
   "metadata": {},
   "outputs": [],
   "source": [
    "# Obtaining Url with SoQL Queries\n",
    "\n",
    "permitted_events_historical_url = (\n",
    "    \"https://data.cityofnewyork.us/resource/bkfu-528j.json?\" #json file\n",
    "    \"$limit=3000&\" #limit\n",
    "    \"$where=start_date_time%20%3E%3D%20%272024-12-01T00:00:00%27\" #start_date_time in Dec 2024\n",
    "    \"%20AND%20start_date_time%20%3C%20%272025-01-01T00:00:00%27\"\n",
    "    )\n",
    "\n",
    "# Read JSON\n",
    "\n",
    "permitted_events_historical_df = pd.read_json(permitted_events_historical_url)\n",
    "\n",
    "\n",
    "# Current\n",
    "permitted_events_current_df = pd.read_json('https://data.cityofnewyork.us/resource/tvpp-9vvx.json?$limit=2000')"
   ]
  },
  {
   "cell_type": "code",
   "execution_count": null,
   "metadata": {},
   "outputs": [],
   "source": [
    "permitted_events_historical_df.sample(5)"
   ]
  },
  {
   "cell_type": "code",
   "execution_count": null,
   "metadata": {},
   "outputs": [],
   "source": [
    "event_counts_by_borough_df = permitted_events_historical_df.groupby(['event_borough','start_date_time','end_date_time']).size().reset_index(name='number_of_events')\n",
    "\n",
    "event_counts_by_borough_df.head(10)"
   ]
  },
  {
   "cell_type": "markdown",
   "metadata": {},
   "source": [
    "# Transformation"
   ]
  },
  {
   "cell_type": "code",
   "execution_count": null,
   "metadata": {},
   "outputs": [],
   "source": [
    "event_counts_by_borough_df['start_date'] = event_counts_by_borough_df['start_date_time'].dt.date\n",
    "event_counts_by_borough_df['end_date'] = event_counts_by_borough_df['end_date_time'].dt.date\n",
    "\n",
    "event_counts_by_borough_df['start_hour'] = event_counts_by_borough_df['start_date_time'].dt.hour\n",
    "event_counts_by_borough_df['end_hour'] = event_counts_by_borough_df['end_date_time'].dt.hour\n",
    "\n",
    "event_counts_by_borough_df.drop(columns=['start_date_time','end_date_time'],inplace=True)\n",
    "\n",
    "event_counts_by_borough_df.sample(10)"
   ]
  },
  {
   "cell_type": "markdown",
   "metadata": {},
   "source": [
    "# Analysis"
   ]
  },
  {
   "cell_type": "code",
   "execution_count": null,
   "metadata": {},
   "outputs": [],
   "source": [
    "sns.histplot(data=event_counts_by_borough_df, x=event_counts_by_borough_df['event_borough'])"
   ]
  },
  {
   "cell_type": "code",
   "execution_count": null,
   "metadata": {},
   "outputs": [],
   "source": [
    "plt.figure(figsize=(6,6))\n",
    "sns.histplot(data=event_counts_by_borough_df, x=event_counts_by_borough_df['start_date_time'].dt.hour, hue='event_borough', multiple='stack', bins=24)\n",
    "\n",
    "plt.xlabel('Hour')\n",
    "plt.ylabel('Number of Events')\n",
    "plt.title('Number of Events in a Day (per Borough)')"
   ]
  },
  {
   "cell_type": "code",
   "execution_count": null,
   "metadata": {},
   "outputs": [],
   "source": [
    "plt.figure(figsize=(8,6))\n",
    "sns.histplot(data=permitted_events_historical_df, x=permitted_events_historical_df['start_date_time'].dt.day_name(), hue='event_borough', multiple='stack')\n",
    "\n",
    "plt.xlabel('Day of the Week')\n",
    "plt.ylabel('Number of Events')\n",
    "plt.title('Number of Events in a Week (per Borough)')"
   ]
  },
  {
   "cell_type": "code",
   "execution_count": null,
   "metadata": {},
   "outputs": [],
   "source": [
    "sns.histplot(data=permitted_events_historical_df, x=permitted_events_historical_df['start_date_time'].dt.hour, hue='event_borough', multiple='stack')\n",
    "plt.xlabel('Hour of the Day')\n",
    "plt.ylabel('Number of Events')\n",
    "plt.title('Number of Events in a Day (per Borough)')"
   ]
  }
 ],
 "metadata": {
  "kernelspec": {
   "display_name": "Python 3",
   "language": "python",
   "name": "python3"
  },
  "language_info": {
   "codemirror_mode": {
    "name": "ipython",
    "version": 3
   },
   "file_extension": ".py",
   "mimetype": "text/x-python",
   "name": "python",
   "nbconvert_exporter": "python",
   "pygments_lexer": "ipython3",
   "version": "3.9.6"
  }
 },
 "nbformat": 4,
 "nbformat_minor": 2
}
